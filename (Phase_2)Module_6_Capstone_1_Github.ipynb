{
  "nbformat": 4,
  "nbformat_minor": 0,
  "metadata": {
    "colab": {
      "name": "(Phase 2) Module 6: Capstone 1 - Github",
      "provenance": [],
      "collapsed_sections": [],
      "authorship_tag": "ABX9TyMVwXngqvclRTCICWr/M4CN",
      "include_colab_link": true
    },
    "kernelspec": {
      "name": "python3",
      "display_name": "Python 3"
    }
  },
  "cells": [
    {
      "cell_type": "markdown",
      "metadata": {
        "id": "view-in-github",
        "colab_type": "text"
      },
      "source": [
        "<a href=\"https://colab.research.google.com/github/mwarnsle1/Cap1-fem/blob/main/(Phase_2)Module_6_Capstone_1_Github.ipynb\" target=\"_parent\"><img src=\"https://colab.research.google.com/assets/colab-badge.svg\" alt=\"Open In Colab\"/></a>"
      ]
    },
    {
      "cell_type": "code",
      "metadata": {
        "colab": {
          "base_uri": "https://localhost:8080/"
        },
        "id": "s1Y0pN3ukUoS",
        "outputId": "f797ba65-3d67-462c-86ad-098c9c1f4962"
      },
      "source": [
        "import pandas as pd\n",
        "import numpy as np\n",
        "import seaborn as sns\n",
        "\n",
        "\n",
        "cancer_ALL= pd.read_csv('https://raw.githubusercontent.com/mwarnsle1/Cap1-fem/main/DeathTrend-new.xlsx%20-%20All%20US.csv', skiprows=6)\n",
        "cancer_ALL.head()\n",
        "cancer_ALL.info()"
      ],
      "execution_count": null,
      "outputs": [
        {
          "output_type": "stream",
          "text": [
            "<class 'pandas.core.frame.DataFrame'>\n",
            "RangeIndex: 89 entries, 0 to 88\n",
            "Data columns (total 23 columns):\n",
            " #   Column                                        Non-Null Count  Dtype  \n",
            "---  ------                                        --------------  -----  \n",
            " 0   Year                                          89 non-null     int64  \n",
            " 1   All cancer types combined / Female            89 non-null     float64\n",
            " 2   All cancer types combined / Male              89 non-null     float64\n",
            " 3   Breast / Female                               89 non-null     float64\n",
            " 4   Breast / Male                                 0 non-null      float64\n",
            " 5   Colorectum / Female                           89 non-null     object \n",
            " 6   Colorectum / Male                             89 non-null     object \n",
            " 7   Leukemia / Female                             89 non-null     float64\n",
            " 8   Leukemia / Male                               89 non-null     float64\n",
            " 9   Liver and intrahepatic bile duct / Female     89 non-null     object \n",
            " 10  Liver and intrahepatic bile duct / Male       89 non-null     object \n",
            " 11  Lung and bronchus / Female                    89 non-null     object \n",
            " 12  Lung and bronchus / Male                      89 non-null     object \n",
            " 13  Ovary / Female                                89 non-null     object \n",
            " 14  Ovary / Male                                  0 non-null      float64\n",
            " 15  Pancreas / Female                             89 non-null     float64\n",
            " 16  Pancreas / Male                               89 non-null     float64\n",
            " 17  Prostate / Female                             0 non-null      float64\n",
            " 18  Prostate / Male                               89 non-null     float64\n",
            " 19  Stomach / Female                              89 non-null     float64\n",
            " 20  Stomach / Male                                89 non-null     float64\n",
            " 21  Uterus (cervix and corpus combined) / Female  89 non-null     object \n",
            " 22  Uterus (cervix and corpus combined) / Male    0 non-null      float64\n",
            "dtypes: float64(14), int64(1), object(8)\n",
            "memory usage: 16.1+ KB\n"
          ],
          "name": "stdout"
        }
      ]
    },
    {
      "cell_type": "code",
      "metadata": {
        "colab": {
          "base_uri": "https://localhost:8080/",
          "height": 282
        },
        "id": "JkrlAuNnTghv",
        "outputId": "3f5080fd-0030-45f4-c567-54162cbc23d9"
      },
      "source": [
        "sns.set_style('whitegrid')\n",
        "\n",
        "cancer_ALL = pd.read_csv('https://raw.githubusercontent.com/mwarnsle1/Cap1-fem/main/DeathTrend-new.xlsx%20-%20All%20US.csv', skiprows=6)\n",
        "cancerALLgrpA = cancer_ALL.groupby(['Year'])['All cancer types combined / Female'].sum().reset_index()\n",
        "\n",
        "cancerALLgrpA['All cancer types combined / Female'].plot(kind='hist')"
      ],
      "execution_count": null,
      "outputs": [
        {
          "output_type": "execute_result",
          "data": {
            "text/plain": [
              "<matplotlib.axes._subplots.AxesSubplot at 0x7f3184eb1910>"
            ]
          },
          "metadata": {
            "tags": []
          },
          "execution_count": 3
        },
        {
          "output_type": "display_data",
          "data": {
            "image/png": "[encoded data removed]",
            "text/plain": [
              "<Figure size 432x288 with 1 Axes>"
            ]
          },
          "metadata": {
            "tags": []
          }
        }
      ]
    },
    {
      "cell_type": "code",
      "metadata": {
        "colab": {
          "base_uri": "https://localhost:8080/",
          "height": 282
        },
        "id": "pCUS2wy4SMlj",
        "outputId": "d9c1f636-c9ea-4ccc-86cd-67031b2e7695"
      },
      "source": [
        "sns.set_style('whitegrid')\n",
        "\n",
        "cancer_ALL = pd.read_csv('https://raw.githubusercontent.com/mwarnsle1/Cap1-fem/main/DeathTrend-new.xlsx%20-%20All%20US.csv', skiprows=6)\n",
        "cancerALLgrpB = cancer_ALL.groupby(['Year'])['All cancer types combined / Male'].sum().reset_index()\n",
        "\n",
        "cancerALLgrpB['All cancer types combined / Male'].plot(kind='hist')"
      ],
      "execution_count": null,
      "outputs": [
        {
          "output_type": "execute_result",
          "data": {
            "text/plain": [
              "<matplotlib.axes._subplots.AxesSubplot at 0x7f3183c91610>"
            ]
          },
          "metadata": {
            "tags": []
          },
          "execution_count": 4
        },
        {
          "output_type": "display_data",
          "data": {
            "image/png": "[encoded data removed]",
            "text/plain": [
              "<Figure size 432x288 with 1 Axes>"
            ]
          },
          "metadata": {
            "tags": []
          }
        }
      ]
    },
    {
      "cell_type": "code",
      "metadata": {
        "colab": {
          "base_uri": "https://localhost:8080/"
        },
        "id": "EFdus4RPzYh2",
        "outputId": "63a24a37-8446-43ef-a22d-9381e08259e4"
      },
      "source": [
        "#finding the descriptive stats for both hypotheses(and seeing if skewness & kurtosis are between 3 and -3):\n",
        "from scipy import stats\n",
        "\n",
        "print(stats.describe(cancerALLgrpA['All cancer types combined / Female']))\n",
        "print(stats.describe(cancerALLgrpB['All cancer types combined / Male']))"
      ],
      "execution_count": null,
      "outputs": [
        {
          "output_type": "stream",
          "text": [
            "DescribeResult(nobs=89, minmax=(128.4, 194.8), mean=169.42022471910113, variance=248.1341317671093, skewness=-0.4468773335474933, kurtosis=-0.052797361479377525)\n",
            "DescribeResult(nobs=89, minmax=(164.5, 279.8), mean=228.4955056179775, variance=1161.2136159346273, skewness=-0.10293982076403167, kurtosis=-1.1886328822352543)\n"
          ],
          "name": "stdout"
        }
      ]
    },
    {
      "cell_type": "code",
      "metadata": {
        "colab": {
          "base_uri": "https://localhost:8080/",
          "height": 315
        },
        "id": "oetWQr1PCLHg",
        "outputId": "51da0170-c8b6-4b0e-ddc0-75db23729d8b"
      },
      "source": [
        "%matplotlib inline\n",
        "import matplotlib.pyplot as plt\n",
        "\n",
        "#test the distribution's normality w/ descriptive stats(skewness/kurtosis):\n",
        "\n",
        "cancerALLgrpA1 = cancerALLgrpA.loc[(cancerALLgrpA['Year']>=1980) & (cancerALLgrpA['Year']< 2018)]\n",
        "cancerALLgrpB2 = cancerALLgrpB.loc[(cancerALLgrpB['Year']>=1980) & (cancerALLgrpB['Year']< 2018)]\n",
        "\n",
        "\n",
        "plt.hist(cancerALLgrpA['All cancer types combined / Female'], alpha = .5)\n",
        "plt.hist(cancerALLgrpB['All cancer types combined / Male'], alpha = .5)\n",
        "plt.title(\"Cancer Morbidity Rates by Gender\")\n",
        "plt.show()\n",
        "\n",
        "print(stats.describe(cancerALLgrpA['All cancer types combined / Female']))\n",
        "print(stats.describe(cancerALLgrpB['All cancer types combined / Male']))"
      ],
      "execution_count": null,
      "outputs": [
        {
          "output_type": "display_data",
          "data": {
            "image/png": "[encoded data removed]",
            "text/plain": [
              "<Figure size 432x288 with 1 Axes>"
            ]
          },
          "metadata": {
            "tags": [],
            "needs_background": "light"
          }
        },
        {
          "output_type": "stream",
          "text": [
            "DescribeResult(nobs=89, minmax=(128.4, 194.8), mean=169.42022471910113, variance=248.1341317671093, skewness=-0.4468773335474933, kurtosis=-0.052797361479377525)\n",
            "DescribeResult(nobs=89, minmax=(164.5, 279.8), mean=228.4955056179775, variance=1161.2136159346273, skewness=-0.10293982076403167, kurtosis=-1.1886328822352543)\n"
          ],
          "name": "stdout"
        }
      ]
    },
    {
      "cell_type": "code",
      "metadata": {
        "colab": {
          "base_uri": "https://localhost:8080/",
          "height": 404
        },
        "id": "2VZHChkw1aH9",
        "outputId": "4367d7f2-abbd-4562-991e-9e404eb66b9f"
      },
      "source": [
        "import seaborn as sns\n",
        "\n",
        "cancerALLgrpA1 = cancerALLgrpA.loc[(cancerALLgrpA['Year']>=1980) & (cancerALLgrpA['Year']< 2018)]\n",
        "cancerALLgrpB2 = cancerALLgrpB.loc[(cancerALLgrpB['Year']>=1980) & (cancerALLgrpB['Year']< 2018)]\n",
        "\n",
        "plt.figure(figsize=(20,5))\n",
        "\n",
        "plt.subplot(1,3,1)\n",
        "sns.barplot(cancerALLgrpA1['All cancer types combined / Female'], cancerALLgrpB2['All cancer types combined / Male'])\n",
        "plt.title(\"Cancer Morbidity Rates by Gender\")\n",
        "\n",
        "#plt.hist(cancerALLgrpA['All cancer types combined / Female'], alpha = .5)\n",
        "#plt.hist(cancerALLgrpB['All cancer types combined / Male'], alpha = .5)\n",
        "#plt.title(\"Cancer Morbidity Rates by Gender\")\n",
        "#plt.show()\n",
        "\n",
        "\n",
        "#plt.hist(cancerALLgrpA1['All cancer types combined / Female'], cancerALLgrpB2['All cancer types combined / Male'])\n",
        "#plt.title(\"Cancer Morbidity Rates by Gender\")\n",
        "#plt.show()\n",
        "\n",
        "#print(stats.describe(cancerALLgrpA['All cancer types combined / Female']))\n",
        "#print(stats.describe(cancerALLgrpB['All cancer types combined / Male']))\n",
        "\n",
        "plt.show()"
      ],
      "execution_count": null,
      "outputs": [
        {
          "output_type": "stream",
          "text": [
            "/usr/local/lib/python3.7/dist-packages/seaborn/_decorators.py:43: FutureWarning: Pass the following variables as keyword args: x, y. From version 0.12, the only valid positional argument will be `data`, and passing other arguments without an explicit keyword will result in an error or misinterpretation.\n",
            "  FutureWarning\n"
          ],
          "name": "stderr"
        },
        {
          "output_type": "display_data",
          "data": {
            "image/png": "[encoded data removed]",
            "text/plain": [
              "<Figure size 1440x360 with 1 Axes>"
            ]
          },
          "metadata": {
            "tags": [],
            "needs_background": "light"
          }
        }
      ]
    },
    {
      "cell_type": "code",
      "metadata": {
        "colab": {
          "base_uri": "https://localhost:8080/"
        },
        "id": "ICs6Zrmq8mx9",
        "outputId": "117e28d6-dc1c-4384-c973-6b1bbf64c369"
      },
      "source": [
        "#the descriptive stats appeared to indicate a distribution within the normal range enough to procede with an independent samples t-test(w/o the years added):\n",
        "\n",
        "stats.ttest_ind(cancerALLgrpA['All cancer types combined / Female'], cancerALLgrpB['All cancer types combined / Male'])"
      ],
      "execution_count": null,
      "outputs": [
        {
          "output_type": "execute_result",
          "data": {
            "text/plain": [
              "Ttest_indResult(statistic=-14.84539357043202, pvalue=7.496152738060725e-33)"
            ]
          },
          "metadata": {
            "tags": []
          },
          "execution_count": 8
        }
      ]
    },
    {
      "cell_type": "code",
      "metadata": {
        "colab": {
          "base_uri": "https://localhost:8080/"
        },
        "id": "exMCLJzqOgJh",
        "outputId": "a4d6897e-ff19-4857-e603-bd0c4ca8e89f"
      },
      "source": [
        "#with the range of years added:\n",
        "\n",
        "stats.ttest_ind(cancerALLgrpA1['All cancer types combined / Female'], cancerALLgrpB2['All cancer types combined / Male'])"
      ],
      "execution_count": null,
      "outputs": [
        {
          "output_type": "execute_result",
          "data": {
            "text/plain": [
              "Ttest_indResult(statistic=-14.624044068916177, pvalue=1.5854125651841823e-23)"
            ]
          },
          "metadata": {
            "tags": []
          },
          "execution_count": 9
        }
      ]
    },
    {
      "cell_type": "code",
      "metadata": {
        "colab": {
          "base_uri": "https://localhost:8080/"
        },
        "id": "JzmygfagLsGi",
        "outputId": "5a7989f5-d9de-495f-a75b-80cc73f93efe"
      },
      "source": [
        "#further analysis done with a two-proportion z-test can differentiate the samples:\n",
        "\n",
        "from statsmodels.stats.weightstats import ztest\n",
        "\n",
        "ztest(cancerALLgrpA1['All cancer types combined / Female'], cancerALLgrpB2['All cancer types combined / Male'])"
      ],
      "execution_count": null,
      "outputs": [
        {
          "output_type": "execute_result",
          "data": {
            "text/plain": [
              "(-14.624044068916177, 1.9732287484984464e-48)"
            ]
          },
          "metadata": {
            "tags": []
          },
          "execution_count": 11
        }
      ]
    }
  ]
}